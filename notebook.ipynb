{
 "cells": [
  {
   "cell_type": "markdown",
   "metadata": {},
   "source": [
    "# 1. Imports"
   ]
  },
  {
   "cell_type": "code",
   "execution_count": 1,
   "metadata": {},
   "outputs": [],
   "source": [
    "import pandas as pd\n",
    "import numpy as np\n",
    "\n",
    "# Tweaks\n",
    "pd.options.display.max_rows = 12000"
   ]
  },
  {
   "cell_type": "markdown",
   "metadata": {},
   "source": [
    "# 2. Data Reading"
   ]
  },
  {
   "cell_type": "code",
   "execution_count": 2,
   "metadata": {},
   "outputs": [],
   "source": [
    "apps_df = pd.read_csv('./data/googleplaystore.csv')\n",
    "user_reviews_df = pd.read_csv('./data/googleplaystore_user_reviews.csv')"
   ]
  },
  {
   "cell_type": "markdown",
   "metadata": {},
   "source": [
    "# 3. Data Exploration I"
   ]
  },
  {
   "cell_type": "code",
   "execution_count": 3,
   "metadata": {},
   "outputs": [
    {
     "data": {
      "text/html": [
       "<div>\n",
       "<style scoped>\n",
       "    .dataframe tbody tr th:only-of-type {\n",
       "        vertical-align: middle;\n",
       "    }\n",
       "\n",
       "    .dataframe tbody tr th {\n",
       "        vertical-align: top;\n",
       "    }\n",
       "\n",
       "    .dataframe thead th {\n",
       "        text-align: right;\n",
       "    }\n",
       "</style>\n",
       "<table border=\"1\" class=\"dataframe\">\n",
       "  <thead>\n",
       "    <tr style=\"text-align: right;\">\n",
       "      <th></th>\n",
       "      <th>App</th>\n",
       "      <th>Category</th>\n",
       "      <th>Rating</th>\n",
       "      <th>Reviews</th>\n",
       "      <th>Size</th>\n",
       "      <th>Installs</th>\n",
       "      <th>Type</th>\n",
       "      <th>Price</th>\n",
       "      <th>Content Rating</th>\n",
       "      <th>Genres</th>\n",
       "      <th>Last Updated</th>\n",
       "      <th>Current Ver</th>\n",
       "      <th>Android Ver</th>\n",
       "    </tr>\n",
       "  </thead>\n",
       "  <tbody>\n",
       "    <tr>\n",
       "      <th>6745</th>\n",
       "      <td>Beauty Rental Shop</td>\n",
       "      <td>FAMILY</td>\n",
       "      <td>4.6</td>\n",
       "      <td>11480</td>\n",
       "      <td>93M</td>\n",
       "      <td>100,000+</td>\n",
       "      <td>Free</td>\n",
       "      <td>0</td>\n",
       "      <td>Everyone</td>\n",
       "      <td>Simulation</td>\n",
       "      <td>May 25, 2018</td>\n",
       "      <td>1.0.4</td>\n",
       "      <td>4.4 and up</td>\n",
       "    </tr>\n",
       "    <tr>\n",
       "      <th>10644</th>\n",
       "      <td>South Florida MLS</td>\n",
       "      <td>LIFESTYLE</td>\n",
       "      <td>4.4</td>\n",
       "      <td>133</td>\n",
       "      <td>13M</td>\n",
       "      <td>10,000+</td>\n",
       "      <td>Free</td>\n",
       "      <td>0</td>\n",
       "      <td>Everyone</td>\n",
       "      <td>Lifestyle</td>\n",
       "      <td>June 2, 2018</td>\n",
       "      <td>2.8.4</td>\n",
       "      <td>4.0.3 and up</td>\n",
       "    </tr>\n",
       "    <tr>\n",
       "      <th>5146</th>\n",
       "      <td>Ah! Monster</td>\n",
       "      <td>FAMILY</td>\n",
       "      <td>4.1</td>\n",
       "      <td>1998</td>\n",
       "      <td>9.8M</td>\n",
       "      <td>100,000+</td>\n",
       "      <td>Free</td>\n",
       "      <td>0</td>\n",
       "      <td>Everyone</td>\n",
       "      <td>Casual</td>\n",
       "      <td>June 21, 2017</td>\n",
       "      <td>4.0.0</td>\n",
       "      <td>4.0 and up</td>\n",
       "    </tr>\n",
       "    <tr>\n",
       "      <th>8849</th>\n",
       "      <td>DS-82 form</td>\n",
       "      <td>BUSINESS</td>\n",
       "      <td>NaN</td>\n",
       "      <td>1</td>\n",
       "      <td>28M</td>\n",
       "      <td>100+</td>\n",
       "      <td>Free</td>\n",
       "      <td>0</td>\n",
       "      <td>Everyone</td>\n",
       "      <td>Business</td>\n",
       "      <td>April 27, 2018</td>\n",
       "      <td>1.7.7</td>\n",
       "      <td>4.1 and up</td>\n",
       "    </tr>\n",
       "    <tr>\n",
       "      <th>1474</th>\n",
       "      <td>Home Security Camera WardenCam - reuse old phones</td>\n",
       "      <td>HOUSE_AND_HOME</td>\n",
       "      <td>4.3</td>\n",
       "      <td>43800</td>\n",
       "      <td>Varies with device</td>\n",
       "      <td>1,000,000+</td>\n",
       "      <td>Free</td>\n",
       "      <td>0</td>\n",
       "      <td>Everyone</td>\n",
       "      <td>House &amp; Home</td>\n",
       "      <td>July 6, 2018</td>\n",
       "      <td>Varies with device</td>\n",
       "      <td>Varies with device</td>\n",
       "    </tr>\n",
       "  </tbody>\n",
       "</table>\n",
       "</div>"
      ],
      "text/plain": [
       "                                                     App        Category  \\\n",
       "6745                                  Beauty Rental Shop          FAMILY   \n",
       "10644                                  South Florida MLS       LIFESTYLE   \n",
       "5146                                         Ah! Monster          FAMILY   \n",
       "8849                                          DS-82 form        BUSINESS   \n",
       "1474   Home Security Camera WardenCam - reuse old phones  HOUSE_AND_HOME   \n",
       "\n",
       "       Rating Reviews                Size    Installs  Type Price  \\\n",
       "6745      4.6   11480                 93M    100,000+  Free     0   \n",
       "10644     4.4     133                 13M     10,000+  Free     0   \n",
       "5146      4.1    1998                9.8M    100,000+  Free     0   \n",
       "8849      NaN       1                 28M        100+  Free     0   \n",
       "1474      4.3   43800  Varies with device  1,000,000+  Free     0   \n",
       "\n",
       "      Content Rating        Genres    Last Updated         Current Ver  \\\n",
       "6745        Everyone    Simulation    May 25, 2018               1.0.4   \n",
       "10644       Everyone     Lifestyle    June 2, 2018               2.8.4   \n",
       "5146        Everyone        Casual   June 21, 2017               4.0.0   \n",
       "8849        Everyone      Business  April 27, 2018               1.7.7   \n",
       "1474        Everyone  House & Home    July 6, 2018  Varies with device   \n",
       "\n",
       "              Android Ver  \n",
       "6745           4.4 and up  \n",
       "10644        4.0.3 and up  \n",
       "5146           4.0 and up  \n",
       "8849           4.1 and up  \n",
       "1474   Varies with device  "
      ]
     },
     "execution_count": 3,
     "metadata": {},
     "output_type": "execute_result"
    }
   ],
   "source": [
    "apps_df.sample(5)"
   ]
  },
  {
   "cell_type": "code",
   "execution_count": 4,
   "metadata": {},
   "outputs": [
    {
     "data": {
      "text/html": [
       "<div>\n",
       "<style scoped>\n",
       "    .dataframe tbody tr th:only-of-type {\n",
       "        vertical-align: middle;\n",
       "    }\n",
       "\n",
       "    .dataframe tbody tr th {\n",
       "        vertical-align: top;\n",
       "    }\n",
       "\n",
       "    .dataframe thead th {\n",
       "        text-align: right;\n",
       "    }\n",
       "</style>\n",
       "<table border=\"1\" class=\"dataframe\">\n",
       "  <thead>\n",
       "    <tr style=\"text-align: right;\">\n",
       "      <th></th>\n",
       "      <th>App</th>\n",
       "      <th>Translated_Review</th>\n",
       "      <th>Sentiment</th>\n",
       "      <th>Sentiment_Polarity</th>\n",
       "      <th>Sentiment_Subjectivity</th>\n",
       "    </tr>\n",
       "  </thead>\n",
       "  <tbody>\n",
       "    <tr>\n",
       "      <th>33202</th>\n",
       "      <td>Dashlane Free Password Manager</td>\n",
       "      <td>What piece junk. Got email company saying, usi...</td>\n",
       "      <td>Negative</td>\n",
       "      <td>-0.074167</td>\n",
       "      <td>0.426667</td>\n",
       "    </tr>\n",
       "    <tr>\n",
       "      <th>37241</th>\n",
       "      <td>Dropbox</td>\n",
       "      <td>Videos crash halfway, much UI, can't export en...</td>\n",
       "      <td>Positive</td>\n",
       "      <td>0.050000</td>\n",
       "      <td>0.556250</td>\n",
       "    </tr>\n",
       "    <tr>\n",
       "      <th>7317</th>\n",
       "      <td>Angry Birds 2</td>\n",
       "      <td>The newest update fixed issues had.. totally l...</td>\n",
       "      <td>Positive</td>\n",
       "      <td>0.200000</td>\n",
       "      <td>0.342857</td>\n",
       "    </tr>\n",
       "    <tr>\n",
       "      <th>8724</th>\n",
       "      <td>Apk Installer</td>\n",
       "      <td>Useless It useful qualities hence waste time</td>\n",
       "      <td>Negative</td>\n",
       "      <td>-0.133333</td>\n",
       "      <td>0.066667</td>\n",
       "    </tr>\n",
       "    <tr>\n",
       "      <th>56962</th>\n",
       "      <td>Google Translate</td>\n",
       "      <td>NaN</td>\n",
       "      <td>NaN</td>\n",
       "      <td>NaN</td>\n",
       "      <td>NaN</td>\n",
       "    </tr>\n",
       "  </tbody>\n",
       "</table>\n",
       "</div>"
      ],
      "text/plain": [
       "                                  App  \\\n",
       "33202  Dashlane Free Password Manager   \n",
       "37241                         Dropbox   \n",
       "7317                    Angry Birds 2   \n",
       "8724                    Apk Installer   \n",
       "56962                Google Translate   \n",
       "\n",
       "                                       Translated_Review Sentiment  \\\n",
       "33202  What piece junk. Got email company saying, usi...  Negative   \n",
       "37241  Videos crash halfway, much UI, can't export en...  Positive   \n",
       "7317   The newest update fixed issues had.. totally l...  Positive   \n",
       "8724        Useless It useful qualities hence waste time  Negative   \n",
       "56962                                                NaN       NaN   \n",
       "\n",
       "       Sentiment_Polarity  Sentiment_Subjectivity  \n",
       "33202           -0.074167                0.426667  \n",
       "37241            0.050000                0.556250  \n",
       "7317             0.200000                0.342857  \n",
       "8724            -0.133333                0.066667  \n",
       "56962                 NaN                     NaN  "
      ]
     },
     "execution_count": 4,
     "metadata": {},
     "output_type": "execute_result"
    }
   ],
   "source": [
    "user_reviews_df.sample(5)"
   ]
  },
  {
   "cell_type": "markdown",
   "metadata": {},
   "source": [
    "# 4. Data Cleaning"
   ]
  },
  {
   "cell_type": "markdown",
   "metadata": {},
   "source": [
    "## I. Handling Noisy Data"
   ]
  },
  {
   "cell_type": "markdown",
   "metadata": {},
   "source": [
    "### NOTE: Record 10472 has wrong inputs in `Category`, `Rating`, `Reviews`, `Size`, `Installs`, `Type`, `Price` thus it needs to be removed."
   ]
  },
  {
   "cell_type": "code",
   "execution_count": 5,
   "metadata": {},
   "outputs": [],
   "source": [
    "apps_df = apps_df.drop(10472)"
   ]
  },
  {
   "cell_type": "markdown",
   "metadata": {},
   "source": [
    "### A. Removing `M`, `k`, `Varies with device` from `Size` column"
   ]
  },
  {
   "cell_type": "code",
   "execution_count": 6,
   "metadata": {},
   "outputs": [],
   "source": [
    "# Removing `M`, Changing Size To KB\n",
    "apps_df['Size'] = apps_df['Size'].map(\n",
    "    lambda value :\n",
    "        str(int(float(value.rstrip('M')) * 1024)) if value[-1] == 'M' else value\n",
    ")\n",
    "\n",
    "# Removing `k`\n",
    "apps_df['Size'] = apps_df['Size'].map(\n",
    "    lambda value :\n",
    "        str(value.rstrip('k')) if value[-1] == 'k' else value\n",
    ")\n",
    "\n",
    "# Setting `Varies with device` to NaN\n",
    "apps_df['Size'] = apps_df['Size'].map(\n",
    "    lambda value :\n",
    "        np.nan if value == 'Varies with device' else value\n",
    ")"
   ]
  },
  {
   "cell_type": "markdown",
   "metadata": {},
   "source": [
    "### B. Removing `+`, `,` from `Installs` column"
   ]
  },
  {
   "cell_type": "code",
   "execution_count": 7,
   "metadata": {},
   "outputs": [],
   "source": [
    "# Removing `+`\n",
    "apps_df['Installs'] = apps_df['Installs'].map(\n",
    "    lambda value :\n",
    "        value.rstrip('+')\n",
    ")\n",
    "\n",
    "# Removing `,`\n",
    "apps_df['Installs'] = apps_df['Installs'].map(\n",
    "    lambda value :\n",
    "        ''.join(value.split(','))\n",
    ")"
   ]
  },
  {
   "cell_type": "markdown",
   "metadata": {},
   "source": [
    "### C. Removing `$` from `Price` column"
   ]
  },
  {
   "cell_type": "code",
   "execution_count": 8,
   "metadata": {},
   "outputs": [],
   "source": [
    "# Removing `$`\n",
    "apps_df['Price'] = apps_df['Price'].map(\n",
    "    lambda value :\n",
    "        value.lstrip('$')\n",
    ")"
   ]
  },
  {
   "cell_type": "markdown",
   "metadata": {},
   "source": [
    "### D. Changing Columns To Numeric"
   ]
  },
  {
   "cell_type": "code",
   "execution_count": 9,
   "metadata": {},
   "outputs": [],
   "source": [
    "# Changing Values From String To Numeric in `Rating` Column\n",
    "apps_df['Rating'] = pd.to_numeric(apps_df['Rating'])\n",
    "\n",
    "# Changing Values From String To Numeric In `Reviews` Column\n",
    "apps_df['Reviews'] = pd.to_numeric(apps_df['Reviews'])\n",
    "\n",
    "# Changing Values From String To Numeric in `Size` Column\n",
    "apps_df['Size'] = pd.to_numeric(apps_df['Size'])\n",
    "\n",
    "# Changing Values From String To Numeric in `Installs` Column\n",
    "apps_df['Installs'] = pd.to_numeric(apps_df['Installs'])\n",
    "\n",
    "# Changing Values From String To Numeric in `Price` Column\n",
    "apps_df['Price'] = pd.to_numeric(apps_df['Price'])"
   ]
  },
  {
   "cell_type": "markdown",
   "metadata": {},
   "source": [
    "### Special Cases"
   ]
  },
  {
   "cell_type": "code",
   "execution_count": 10,
   "metadata": {},
   "outputs": [],
   "source": [
    "# Should I handle Outliers?\n",
    "# In Type there is 2 Unrated, 3 Adults +18. should they be removed?"
   ]
  },
  {
   "cell_type": "markdown",
   "metadata": {},
   "source": [
    "## II. Handling Missing Values"
   ]
  },
  {
   "cell_type": "markdown",
   "metadata": {},
   "source": [
    "### A. Replacing `NaN` with `Free` in `Type` Column"
   ]
  },
  {
   "cell_type": "code",
   "execution_count": 11,
   "metadata": {},
   "outputs": [],
   "source": [
    "# Replacing `NaN`\n",
    "apps_df['Type'] = apps_df['Type'].fillna('Free')"
   ]
  },
  {
   "cell_type": "markdown",
   "metadata": {},
   "source": [
    "### B. Replacing `NaN` with `1.0` in `Current Ver` Column"
   ]
  },
  {
   "cell_type": "code",
   "execution_count": 12,
   "metadata": {
    "scrolled": false
   },
   "outputs": [],
   "source": [
    "# Replacing `NaN`\n",
    "apps_df['Current Ver'] = apps_df['Current Ver'].fillna('1.0')"
   ]
  },
  {
   "cell_type": "markdown",
   "metadata": {},
   "source": [
    "### C. Replacing `NaN` with Most Repeated Value in `Android Ver` Column"
   ]
  },
  {
   "cell_type": "code",
   "execution_count": 13,
   "metadata": {},
   "outputs": [],
   "source": [
    "# Replacing `NaN`\n",
    "apps_df['Android Ver'] = apps_df['Android Ver'].fillna(apps_df['Android Ver'].value_counts().idxmax())"
   ]
  },
  {
   "cell_type": "markdown",
   "metadata": {},
   "source": [
    "# 5. Data Transformation"
   ]
  },
  {
   "cell_type": "code",
   "execution_count": null,
   "metadata": {},
   "outputs": [],
   "source": []
  },
  {
   "cell_type": "markdown",
   "metadata": {},
   "source": [
    "# 6. Data Integration"
   ]
  },
  {
   "cell_type": "code",
   "execution_count": null,
   "metadata": {},
   "outputs": [],
   "source": []
  },
  {
   "cell_type": "markdown",
   "metadata": {},
   "source": [
    "# 7. Data Reduction"
   ]
  },
  {
   "cell_type": "code",
   "execution_count": null,
   "metadata": {},
   "outputs": [],
   "source": []
  }
 ],
 "metadata": {
  "kernelspec": {
   "display_name": "Python 3",
   "language": "python",
   "name": "python3"
  },
  "language_info": {
   "codemirror_mode": {
    "name": "ipython",
    "version": 3
   },
   "file_extension": ".py",
   "mimetype": "text/x-python",
   "name": "python",
   "nbconvert_exporter": "python",
   "pygments_lexer": "ipython3",
   "version": "3.7.3"
  }
 },
 "nbformat": 4,
 "nbformat_minor": 2
}
