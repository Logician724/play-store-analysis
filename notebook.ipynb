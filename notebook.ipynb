{
 "cells": [
  {
   "cell_type": "markdown",
   "metadata": {},
   "source": [
    "# 1. Imports"
   ]
  },
  {
   "cell_type": "code",
   "execution_count": 40,
   "metadata": {},
   "outputs": [],
   "source": [
    "import pandas as pd\n",
    "import numpy as np\n",
    "\n",
    "# Tweaks\n",
    "pd.options.display.max_rows = 12000"
   ]
  },
  {
   "cell_type": "markdown",
   "metadata": {},
   "source": [
    "# 2. Data Reading"
   ]
  },
  {
   "cell_type": "code",
   "execution_count": 108,
   "metadata": {},
   "outputs": [],
   "source": [
    "apps_df = pd.read_csv('./data/googleplaystore.csv')\n",
    "user_reviews_df = pd.read_csv('./data/googleplaystore_user_reviews.csv')"
   ]
  },
  {
   "cell_type": "markdown",
   "metadata": {},
   "source": [
    "# 3. Data Exploration"
   ]
  },
  {
   "cell_type": "code",
   "execution_count": 42,
   "metadata": {},
   "outputs": [
    {
     "data": {
      "text/html": [
       "<div>\n",
       "<style scoped>\n",
       "    .dataframe tbody tr th:only-of-type {\n",
       "        vertical-align: middle;\n",
       "    }\n",
       "\n",
       "    .dataframe tbody tr th {\n",
       "        vertical-align: top;\n",
       "    }\n",
       "\n",
       "    .dataframe thead th {\n",
       "        text-align: right;\n",
       "    }\n",
       "</style>\n",
       "<table border=\"1\" class=\"dataframe\">\n",
       "  <thead>\n",
       "    <tr style=\"text-align: right;\">\n",
       "      <th></th>\n",
       "      <th>App</th>\n",
       "      <th>Category</th>\n",
       "      <th>Rating</th>\n",
       "      <th>Reviews</th>\n",
       "      <th>Size</th>\n",
       "      <th>Installs</th>\n",
       "      <th>Type</th>\n",
       "      <th>Price</th>\n",
       "      <th>Content Rating</th>\n",
       "      <th>Genres</th>\n",
       "      <th>Last Updated</th>\n",
       "      <th>Current Ver</th>\n",
       "      <th>Android Ver</th>\n",
       "    </tr>\n",
       "  </thead>\n",
       "  <tbody>\n",
       "    <tr>\n",
       "      <th>9403</th>\n",
       "      <td>Virtual Mother Surgery Doctor : Emergency Hosp...</td>\n",
       "      <td>FAMILY</td>\n",
       "      <td>3.9</td>\n",
       "      <td>70</td>\n",
       "      <td>61M</td>\n",
       "      <td>10,000+</td>\n",
       "      <td>Free</td>\n",
       "      <td>0</td>\n",
       "      <td>Teen</td>\n",
       "      <td>Educational</td>\n",
       "      <td>May 30, 2018</td>\n",
       "      <td>1.1</td>\n",
       "      <td>4.0 and up</td>\n",
       "    </tr>\n",
       "    <tr>\n",
       "      <th>8766</th>\n",
       "      <td>Dr. Safety - Antivirus, Booster, Cleaner, AppLock</td>\n",
       "      <td>TOOLS</td>\n",
       "      <td>4.4</td>\n",
       "      <td>372553</td>\n",
       "      <td>21M</td>\n",
       "      <td>10,000,000+</td>\n",
       "      <td>Free</td>\n",
       "      <td>0</td>\n",
       "      <td>Everyone</td>\n",
       "      <td>Tools</td>\n",
       "      <td>August 6, 2018</td>\n",
       "      <td>3.0.1114</td>\n",
       "      <td>4.1 and up</td>\n",
       "    </tr>\n",
       "    <tr>\n",
       "      <th>4665</th>\n",
       "      <td>SAY-U</td>\n",
       "      <td>FAMILY</td>\n",
       "      <td>3.2</td>\n",
       "      <td>1011</td>\n",
       "      <td>Varies with device</td>\n",
       "      <td>100,000+</td>\n",
       "      <td>Free</td>\n",
       "      <td>0</td>\n",
       "      <td>Teen</td>\n",
       "      <td>Entertainment</td>\n",
       "      <td>July 13, 2018</td>\n",
       "      <td>Varies with device</td>\n",
       "      <td>4.1 and up</td>\n",
       "    </tr>\n",
       "    <tr>\n",
       "      <th>648</th>\n",
       "      <td>Iraq love chat</td>\n",
       "      <td>DATING</td>\n",
       "      <td>NaN</td>\n",
       "      <td>14</td>\n",
       "      <td>5.0M</td>\n",
       "      <td>50+</td>\n",
       "      <td>Free</td>\n",
       "      <td>0</td>\n",
       "      <td>Teen</td>\n",
       "      <td>Dating</td>\n",
       "      <td>August 3, 2018</td>\n",
       "      <td>8.2</td>\n",
       "      <td>4.0.3 and up</td>\n",
       "    </tr>\n",
       "    <tr>\n",
       "      <th>8511</th>\n",
       "      <td>Advanced Download Manager Pro</td>\n",
       "      <td>TOOLS</td>\n",
       "      <td>4.7</td>\n",
       "      <td>6505</td>\n",
       "      <td>2.0M</td>\n",
       "      <td>50,000+</td>\n",
       "      <td>Paid</td>\n",
       "      <td>$2.99</td>\n",
       "      <td>Everyone</td>\n",
       "      <td>Tools</td>\n",
       "      <td>November 3, 2017</td>\n",
       "      <td>6.4.0</td>\n",
       "      <td>4.0 and up</td>\n",
       "    </tr>\n",
       "  </tbody>\n",
       "</table>\n",
       "</div>"
      ],
      "text/plain": [
       "                                                    App Category  Rating  \\\n",
       "9403  Virtual Mother Surgery Doctor : Emergency Hosp...   FAMILY     3.9   \n",
       "8766  Dr. Safety - Antivirus, Booster, Cleaner, AppLock    TOOLS     4.4   \n",
       "4665                                              SAY-U   FAMILY     3.2   \n",
       "648                                      Iraq love chat   DATING     NaN   \n",
       "8511                      Advanced Download Manager Pro    TOOLS     4.7   \n",
       "\n",
       "     Reviews                Size     Installs  Type  Price Content Rating  \\\n",
       "9403      70                 61M      10,000+  Free      0           Teen   \n",
       "8766  372553                 21M  10,000,000+  Free      0       Everyone   \n",
       "4665    1011  Varies with device     100,000+  Free      0           Teen   \n",
       "648       14                5.0M          50+  Free      0           Teen   \n",
       "8511    6505                2.0M      50,000+  Paid  $2.99       Everyone   \n",
       "\n",
       "             Genres      Last Updated         Current Ver   Android Ver  \n",
       "9403    Educational      May 30, 2018                 1.1    4.0 and up  \n",
       "8766          Tools    August 6, 2018            3.0.1114    4.1 and up  \n",
       "4665  Entertainment     July 13, 2018  Varies with device    4.1 and up  \n",
       "648          Dating    August 3, 2018                 8.2  4.0.3 and up  \n",
       "8511          Tools  November 3, 2017               6.4.0    4.0 and up  "
      ]
     },
     "execution_count": 42,
     "metadata": {},
     "output_type": "execute_result"
    }
   ],
   "source": [
    "apps_df.sample(5)"
   ]
  },
  {
   "cell_type": "code",
   "execution_count": 43,
   "metadata": {},
   "outputs": [
    {
     "data": {
      "text/html": [
       "<div>\n",
       "<style scoped>\n",
       "    .dataframe tbody tr th:only-of-type {\n",
       "        vertical-align: middle;\n",
       "    }\n",
       "\n",
       "    .dataframe tbody tr th {\n",
       "        vertical-align: top;\n",
       "    }\n",
       "\n",
       "    .dataframe thead th {\n",
       "        text-align: right;\n",
       "    }\n",
       "</style>\n",
       "<table border=\"1\" class=\"dataframe\">\n",
       "  <thead>\n",
       "    <tr style=\"text-align: right;\">\n",
       "      <th></th>\n",
       "      <th>App</th>\n",
       "      <th>Translated_Review</th>\n",
       "      <th>Sentiment</th>\n",
       "      <th>Sentiment_Polarity</th>\n",
       "      <th>Sentiment_Subjectivity</th>\n",
       "    </tr>\n",
       "  </thead>\n",
       "  <tbody>\n",
       "    <tr>\n",
       "      <th>19632</th>\n",
       "      <td>CBS Sports App - Scores, News, Stats &amp; Watch Live</td>\n",
       "      <td>Can't get back fantasy league easy way like I ...</td>\n",
       "      <td>Negative</td>\n",
       "      <td>-0.025325</td>\n",
       "      <td>0.550770</td>\n",
       "    </tr>\n",
       "    <tr>\n",
       "      <th>53119</th>\n",
       "      <td>Gboard - the Google Keyboard</td>\n",
       "      <td>PREDICTIVE EMOJI IS RUBBISH! Google step up! I...</td>\n",
       "      <td>Neutral</td>\n",
       "      <td>0.000000</td>\n",
       "      <td>0.600000</td>\n",
       "    </tr>\n",
       "    <tr>\n",
       "      <th>62437</th>\n",
       "      <td>Hitwe - meet people and chat</td>\n",
       "      <td>Very intrusive ads But 1 star. Look Lebanon ma...</td>\n",
       "      <td>Positive</td>\n",
       "      <td>0.184896</td>\n",
       "      <td>0.561111</td>\n",
       "    </tr>\n",
       "    <tr>\n",
       "      <th>24278</th>\n",
       "      <td>Card Wars - Adventure Time</td>\n",
       "      <td>NaN</td>\n",
       "      <td>NaN</td>\n",
       "      <td>NaN</td>\n",
       "      <td>NaN</td>\n",
       "    </tr>\n",
       "    <tr>\n",
       "      <th>61070</th>\n",
       "      <td>Hello Kitty Lunchbox</td>\n",
       "      <td>I hate hello kitty games</td>\n",
       "      <td>Negative</td>\n",
       "      <td>-0.800000</td>\n",
       "      <td>0.900000</td>\n",
       "    </tr>\n",
       "  </tbody>\n",
       "</table>\n",
       "</div>"
      ],
      "text/plain": [
       "                                                     App  \\\n",
       "19632  CBS Sports App - Scores, News, Stats & Watch Live   \n",
       "53119                       Gboard - the Google Keyboard   \n",
       "62437                       Hitwe - meet people and chat   \n",
       "24278                         Card Wars - Adventure Time   \n",
       "61070                               Hello Kitty Lunchbox   \n",
       "\n",
       "                                       Translated_Review Sentiment  \\\n",
       "19632  Can't get back fantasy league easy way like I ...  Negative   \n",
       "53119  PREDICTIVE EMOJI IS RUBBISH! Google step up! I...   Neutral   \n",
       "62437  Very intrusive ads But 1 star. Look Lebanon ma...  Positive   \n",
       "24278                                                NaN       NaN   \n",
       "61070                           I hate hello kitty games  Negative   \n",
       "\n",
       "       Sentiment_Polarity  Sentiment_Subjectivity  \n",
       "19632           -0.025325                0.550770  \n",
       "53119            0.000000                0.600000  \n",
       "62437            0.184896                0.561111  \n",
       "24278                 NaN                     NaN  \n",
       "61070           -0.800000                0.900000  "
      ]
     },
     "execution_count": 43,
     "metadata": {},
     "output_type": "execute_result"
    }
   ],
   "source": [
    "user_reviews_df.sample(5)"
   ]
  },
  {
   "cell_type": "markdown",
   "metadata": {},
   "source": [
    "# 4. Data Cleaning"
   ]
  },
  {
   "cell_type": "markdown",
   "metadata": {},
   "source": [
    "## I. Handling Noisy Data"
   ]
  },
  {
   "cell_type": "markdown",
   "metadata": {},
   "source": [
    "### A. Removing `M`, `k`, `+`, `Varies with device` from `Size` column in `Apps` table."
   ]
  },
  {
   "cell_type": "code",
   "execution_count": 109,
   "metadata": {},
   "outputs": [],
   "source": [
    "# Removing `M`, Changing Size To KB\n",
    "apps_df.Size = apps_df.Size.map(\n",
    "    lambda value :\n",
    "        str(int(float(value.rstrip('M')) * 1024)) if value[-1] == 'M' else value\n",
    ")\n",
    "\n",
    "# Removing `k`\n",
    "apps_df.Size = apps_df.Size.map(\n",
    "    lambda value :\n",
    "        str(value.rstrip('k')) if value[-1] == 'k' else value\n",
    ")\n",
    "\n",
    "# Changing 1 Record With `1,000+` To 1\n",
    "apps_df.Size = apps_df.Size.map(\n",
    "    lambda value :\n",
    "        '1' if value == '1,000+' else value\n",
    ")\n",
    "\n",
    "# Setting `Varies with device` to NaN\n",
    "apps_df.Size = apps_df.Size.map(\n",
    "    lambda value :\n",
    "        np.nan if value == 'Varies with device' else value\n",
    ")\n",
    "\n",
    "# Changing `Size` Columns' Values From String To Numeric\n",
    "apps_df.Size = pd.to_numeric(apps_df.Size)"
   ]
  },
  {
   "cell_type": "markdown",
   "metadata": {},
   "source": [
    "### B. Removing `+`, `,`, `Free` from `Installs` column in `Apps` table."
   ]
  },
  {
   "cell_type": "code",
   "execution_count": 110,
   "metadata": {},
   "outputs": [],
   "source": [
    "# Removing `+`\n",
    "apps_df.Installs = apps_df.Installs.map(\n",
    "    lambda value :\n",
    "        value.rstrip('+')\n",
    ")\n",
    "\n",
    "# Removing `,`\n",
    "apps_df.Installs = apps_df.Installs.map(\n",
    "    lambda value :\n",
    "        ''.join(value.split(','))\n",
    ")\n",
    "\n",
    "# Changing 1 Record With `Free` To NaN\n",
    "apps_df.Installs = apps_df.Installs.map(\n",
    "    lambda value :\n",
    "        np.nan if value == 'Free' else value\n",
    ")\n",
    "\n",
    "# Changing `Installs` Columns' Values From String To Numeric\n",
    "apps_df.Installs = pd.to_numeric(apps_df.Installs)"
   ]
  },
  {
   "cell_type": "code",
   "execution_count": 111,
   "metadata": {},
   "outputs": [
    {
     "data": {
      "text/html": [
       "<div>\n",
       "<style scoped>\n",
       "    .dataframe tbody tr th:only-of-type {\n",
       "        vertical-align: middle;\n",
       "    }\n",
       "\n",
       "    .dataframe tbody tr th {\n",
       "        vertical-align: top;\n",
       "    }\n",
       "\n",
       "    .dataframe thead th {\n",
       "        text-align: right;\n",
       "    }\n",
       "</style>\n",
       "<table border=\"1\" class=\"dataframe\">\n",
       "  <thead>\n",
       "    <tr style=\"text-align: right;\">\n",
       "      <th></th>\n",
       "      <th>Rating</th>\n",
       "      <th>Size</th>\n",
       "      <th>Installs</th>\n",
       "    </tr>\n",
       "  </thead>\n",
       "  <tbody>\n",
       "    <tr>\n",
       "      <th>count</th>\n",
       "      <td>9367.000000</td>\n",
       "      <td>9146.000000</td>\n",
       "      <td>1.084000e+04</td>\n",
       "    </tr>\n",
       "    <tr>\n",
       "      <th>mean</th>\n",
       "      <td>4.193338</td>\n",
       "      <td>22029.988356</td>\n",
       "      <td>1.546434e+07</td>\n",
       "    </tr>\n",
       "    <tr>\n",
       "      <th>std</th>\n",
       "      <td>0.537431</td>\n",
       "      <td>23131.219324</td>\n",
       "      <td>8.502936e+07</td>\n",
       "    </tr>\n",
       "    <tr>\n",
       "      <th>min</th>\n",
       "      <td>1.000000</td>\n",
       "      <td>1.000000</td>\n",
       "      <td>0.000000e+00</td>\n",
       "    </tr>\n",
       "    <tr>\n",
       "      <th>25%</th>\n",
       "      <td>4.000000</td>\n",
       "      <td>5017.000000</td>\n",
       "      <td>1.000000e+03</td>\n",
       "    </tr>\n",
       "    <tr>\n",
       "      <th>50%</th>\n",
       "      <td>4.300000</td>\n",
       "      <td>13312.000000</td>\n",
       "      <td>1.000000e+05</td>\n",
       "    </tr>\n",
       "    <tr>\n",
       "      <th>75%</th>\n",
       "      <td>4.500000</td>\n",
       "      <td>30720.000000</td>\n",
       "      <td>5.000000e+06</td>\n",
       "    </tr>\n",
       "    <tr>\n",
       "      <th>max</th>\n",
       "      <td>19.000000</td>\n",
       "      <td>102400.000000</td>\n",
       "      <td>1.000000e+09</td>\n",
       "    </tr>\n",
       "  </tbody>\n",
       "</table>\n",
       "</div>"
      ],
      "text/plain": [
       "            Rating           Size      Installs\n",
       "count  9367.000000    9146.000000  1.084000e+04\n",
       "mean      4.193338   22029.988356  1.546434e+07\n",
       "std       0.537431   23131.219324  8.502936e+07\n",
       "min       1.000000       1.000000  0.000000e+00\n",
       "25%       4.000000    5017.000000  1.000000e+03\n",
       "50%       4.300000   13312.000000  1.000000e+05\n",
       "75%       4.500000   30720.000000  5.000000e+06\n",
       "max      19.000000  102400.000000  1.000000e+09"
      ]
     },
     "execution_count": 111,
     "metadata": {},
     "output_type": "execute_result"
    }
   ],
   "source": [
    "apps_df.describe()"
   ]
  },
  {
   "cell_type": "markdown",
   "metadata": {},
   "source": [
    "### C. Removing `$` from `Price` column in `Apps` table."
   ]
  },
  {
   "cell_type": "markdown",
   "metadata": {},
   "source": [
    "## II. Handling Missing Values"
   ]
  },
  {
   "cell_type": "markdown",
   "metadata": {},
   "source": []
  },
  {
   "cell_type": "markdown",
   "metadata": {},
   "source": [
    "# 5. Data Transformation"
   ]
  },
  {
   "cell_type": "code",
   "execution_count": null,
   "metadata": {},
   "outputs": [],
   "source": []
  },
  {
   "cell_type": "markdown",
   "metadata": {},
   "source": [
    "# 6. Data Integration"
   ]
  },
  {
   "cell_type": "code",
   "execution_count": null,
   "metadata": {},
   "outputs": [],
   "source": []
  },
  {
   "cell_type": "markdown",
   "metadata": {},
   "source": [
    "# 7. Data Reduction"
   ]
  },
  {
   "cell_type": "code",
   "execution_count": null,
   "metadata": {},
   "outputs": [],
   "source": []
  }
 ],
 "metadata": {
  "kernelspec": {
   "display_name": "Python 3",
   "language": "python",
   "name": "python3"
  },
  "language_info": {
   "codemirror_mode": {
    "name": "ipython",
    "version": 3
   },
   "file_extension": ".py",
   "mimetype": "text/x-python",
   "name": "python",
   "nbconvert_exporter": "python",
   "pygments_lexer": "ipython3",
   "version": "3.7.3"
  }
 },
 "nbformat": 4,
 "nbformat_minor": 2
}
